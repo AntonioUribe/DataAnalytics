{
 "cells": [
  {
   "cell_type": "markdown",
   "id": "be1c9bf4",
   "metadata": {},
   "source": [
    "<img src=\"https://i.ibb.co/qN0Y0zN/portada.png\" alt=\"portada\" border=\"0\">"
   ]
  },
  {
   "cell_type": "code",
   "execution_count": 1,
   "id": "07eb930a",
   "metadata": {},
   "outputs": [
    {
     "data": {
      "application/javascript": [
       "$.getScript('https://kmahelona.github.io/ipython_notebook_goodies/ipython_notebook_toc.js')\n"
      ],
      "text/plain": [
       "<IPython.core.display.Javascript object>"
      ]
     },
     "metadata": {},
     "output_type": "display_data"
    }
   ],
   "source": [
    "%%javascript\n",
    "$.getScript('https://kmahelona.github.io/ipython_notebook_goodies/ipython_notebook_toc.js')"
   ]
  },
  {
   "cell_type": "markdown",
   "id": "8856ed1f",
   "metadata": {},
   "source": [
    "<h1 id=\"tocheading\">Tabla de contenido</h1>\n",
    "<div id=\"toc\"></div>"
   ]
  },
  {
   "cell_type": "markdown",
   "id": "67567c82",
   "metadata": {},
   "source": [
    "![title](https://1000marcas.net/wp-content/uploads/2020/01/logo-MINI.png)\n",
    "\n",
    "# Analisis de Agencia de Mini-coopers\n",
    "\n",
    "## Hoja de detalle de participación\n",
    "<img src=\"https://i.ibb.co/x2stxBh/Imagen4.png\" alt=\"Imagen4\" border=\"0\"></a>\n",
    "\n",
    "\n",
    "## Descripción del caso\n",
    "\n",
    "La Compañía MINI COOPERS automóviles tiene agencias distribuidas en México en donde venden los modelos de automóviles. sobre los estados que cuyo objetivo es analizar los automoviles por cliente, fecha, precio de venta y precio de lista. Todo este comportamiento aplica en las ciudades donde se encuentra localizadas de los diferentes estados de la República Mexicana. Las agencias sucursales que corresponde a este análisis es Monterrey (Nuevo León, Reforma (CDMX), Las Lomas(CDMX) y Zapopan(Estado de México) con los modelos disponibles en México.\n",
    "\n",
    "## Objetivo de análisis\n",
    "Qué dudas de negocios se pretenden resolver\n",
    "Este caso se requiere de un analista que pueda manipular los datos capturados y tener en cuenta los siguientes puntos:\n",
    "* ¿Cuál es la ciudad donde se vende más automóviles Mini-Coopers?\n",
    "* ¿Cuál es la ciudad donde se vende menos automóviles Mini-Coopers?\n",
    "* ¿En qué periodo del mes reciben más compras?\n",
    "* ¿Cuál es modelo de automóvil que se vende más en México?\n",
    "* ¿Cuál es modelo de automóvil que se vende menos en México?\n",
    "## Tipos y semántica\n",
    "<img src=\"https://i.ibb.co/jDTw63c/hols.png\" alt=\"hols\" border=\"0\">"
   ]
  },
  {
   "cell_type": "markdown",
   "id": "d110f434",
   "metadata": {},
   "source": [
    "# Observaciones\n",
    "\n",
    "## Imports"
   ]
  },
  {
   "cell_type": "code",
   "execution_count": 2,
   "id": "d2fa797e",
   "metadata": {},
   "outputs": [],
   "source": [
    "# Se importan las librerías básicas para el trabajo de analítica de datos\n",
    "\n",
    "import pandas as pd\n",
    "import numpy as np\n",
    "import seaborn as sns\n",
    "import matplotlib\n",
    "import matplotlib.pyplot as plt\n",
    "\n",
    "# Para que nuestros gráficos se integren a Jupyter Notebook\n",
    "%matplotlib inline\n"
   ]
  },
  {
   "cell_type": "markdown",
   "id": "18bb4d00",
   "metadata": {},
   "source": [
    "## Cargar datos"
   ]
  },
  {
   "cell_type": "code",
   "execution_count": 3,
   "id": "ff4aa238",
   "metadata": {},
   "outputs": [],
   "source": [
    "# Cargar los datos de un archivo, y ponerlos en una variable de tipo dataframe de pandas\n",
    "\n",
    "df = pd.read_csv(\"VentasMINI_FULL_Inicio.csv\")\n",
    "\n",
    "# La variable df representa al conjunto de datos completo."
   ]
  },
  {
   "cell_type": "markdown",
   "id": "2b3307e9",
   "metadata": {},
   "source": [
    "## Datos ausentes\n",
    "En este análisis no se muestra ningun dato ausente debido a que todos sus campos estan registrados."
   ]
  },
  {
   "cell_type": "markdown",
   "id": "1a516c6e",
   "metadata": {},
   "source": [
    "# Análisis Intercuartílico"
   ]
  },
  {
   "cell_type": "markdown",
   "id": "167675ef",
   "metadata": {},
   "source": [
    "## Análisis de caso atípicos:"
   ]
  },
  {
   "cell_type": "code",
   "execution_count": 27,
   "id": "4f4d338a",
   "metadata": {},
   "outputs": [
    {
     "name": "stdout",
     "output_type": "stream",
     "text": [
      "25.0\n",
      "Mínimo no atípico: 10.30682631810209\n",
      "Máximo no atípico: 51.39317368189791\n",
      "\n",
      "\n",
      "<class 'pandas.core.frame.DataFrame'>\n",
      "Int64Index: 179 entries, 0 to 199\n",
      "Data columns (total 11 columns):\n",
      " #   Column        Non-Null Count  Dtype  \n",
      "---  ------        --------------  -----  \n",
      " 0   agencia       179 non-null    object \n",
      " 1   modelo        179 non-null    object \n",
      " 2   transmisión   179 non-null    object \n",
      " 3   precio_lista  179 non-null    int64  \n",
      " 4   precio_venta  179 non-null    float64\n",
      " 5   año           179 non-null    int64  \n",
      " 6   mes           179 non-null    object \n",
      " 7   año_mes       179 non-null    object \n",
      " 8   sexo          179 non-null    object \n",
      " 9   edad          179 non-null    int64  \n",
      " 10  descuento     179 non-null    float64\n",
      "dtypes: float64(2), int64(3), object(6)\n",
      "memory usage: 16.8+ KB\n"
     ]
    }
   ],
   "source": [
    "# Determinación de rango no atípico\n",
    "promedio_precioVenta = df['edad'].mean()\n",
    "print(df['edad'].median())\n",
    "desviacion_estandar = df['edad'].std()\n",
    "minimo_no_atipico = promedio_precioVenta-(1.5*desviacion_estandar)\n",
    "maximo_no_atipico = promedio_precioVenta+(1.5*desviacion_estandar)\n",
    "\n",
    "print(\"Mínimo no atípico:\", minimo_no_atipico)\n",
    "print(\"Máximo no atípico:\", maximo_no_atipico)\n",
    "\n",
    "print(\"\\n\")\n",
    "# Eliminar observaciones con valores atípicos\n",
    "df[(df['edad']>minimo_no_atipico) & (df['edad']<maximo_no_atipico)].info()"
   ]
  },
  {
   "cell_type": "markdown",
   "id": "477428ff",
   "metadata": {},
   "source": [
    "## Representación de Edad\n",
    "Gráfica sin valores atípicos de la columna ```edad```"
   ]
  },
  {
   "cell_type": "code",
   "execution_count": 5,
   "id": "e70d4073",
   "metadata": {
    "scrolled": true
   },
   "outputs": [
    {
     "data": {
      "image/png": "[encoded data removed]",
      "text/plain": [
       "<Figure size 432x288 with 1 Axes>"
      ]
     },
     "metadata": {
      "needs_background": "light"
     },
     "output_type": "display_data"
    }
   ],
   "source": [
    "boxplot = df[(df['edad']>minimo_no_atipico) & (df['edad']<maximo_no_atipico)].boxplot(column=['edad'])"
   ]
  },
  {
   "cell_type": "markdown",
   "id": "dc749921",
   "metadata": {},
   "source": [
    "**NOTA:** Aunque tengamos valores atípcos no consideramos que debemos eliminarlos debido a que Sí lo hacemos no podriamos hacer un análisis completo de los datos proporcionados por la empresa."
   ]
  },
  {
   "cell_type": "markdown",
   "id": "f5b024eb",
   "metadata": {},
   "source": [
    "# Volumetría"
   ]
  },
  {
   "cell_type": "code",
   "execution_count": 6,
   "id": "71a660b2",
   "metadata": {},
   "outputs": [
    {
     "name": "stdout",
     "output_type": "stream",
     "text": [
      "\t\tDataFrame\n",
      "Reglones:200\n",
      "Columnas:13\n",
      "\t\tVolumetria de datos: 200\n"
     ]
    }
   ],
   "source": [
    "volumen=df.shape\n",
    "cantidad_total=len(df)\n",
    "print(f\"\\t\\tDataFrame\\nReglones:{volumen[0]}\\nColumnas:{volumen[1]}\\n\\t\\tVolumetria de datos: {cantidad_total}\")"
   ]
  },
  {
   "cell_type": "markdown",
   "id": "bd8e385f",
   "metadata": {},
   "source": [
    "## Tipo de datos"
   ]
  },
  {
   "cell_type": "code",
   "execution_count": 7,
   "id": "ee707ce5",
   "metadata": {},
   "outputs": [
    {
     "name": "stdout",
     "output_type": "stream",
     "text": [
      "<class 'pandas.core.frame.DataFrame'>\n",
      "RangeIndex: 200 entries, 0 to 199\n",
      "Data columns (total 13 columns):\n",
      " #   Column        Non-Null Count  Dtype  \n",
      "---  ------        --------------  -----  \n",
      " 0   id_factura    200 non-null    object \n",
      " 1   agencia       200 non-null    object \n",
      " 2   modelo        200 non-null    object \n",
      " 3   transmisión   200 non-null    object \n",
      " 4   fecha_venta   200 non-null    object \n",
      " 5   precio_lista  200 non-null    int64  \n",
      " 6   precio_venta  200 non-null    float64\n",
      " 7   año           200 non-null    int64  \n",
      " 8   mes           200 non-null    object \n",
      " 9   año_mes       200 non-null    object \n",
      " 10  sexo          200 non-null    object \n",
      " 11  edad          200 non-null    int64  \n",
      " 12  descuento     200 non-null    float64\n",
      "dtypes: float64(2), int64(3), object(8)\n",
      "memory usage: 20.4+ KB\n"
     ]
    }
   ],
   "source": [
    "df.info()"
   ]
  },
  {
   "cell_type": "markdown",
   "id": "bb5150aa",
   "metadata": {},
   "source": [
    "## Eliminar datos no utilizados\n",
    "El motivo de eliminar estas variables:\n",
    "* ```fecha_venta ```: Esta columna no es relevante para el análisis, ya que contamos con las columnas de ```mes``` y ``` año_mes``` que corresponde a ser mas factible en manejar estas columnas\n",
    "* ```id_factura ```: Esta columna no es relevante por que no es necesario conocer el código de facutra sobre la compra. Es decir esta columna no diria nada en cuestion de columnas bivariadas o campos relacionados."
   ]
  },
  {
   "cell_type": "code",
   "execution_count": 8,
   "id": "e0b0e102",
   "metadata": {},
   "outputs": [],
   "source": [
    "# Fecha_venta\n",
    "del df['fecha_venta']\n",
    "del df[\"id_factura\"]"
   ]
  },
  {
   "cell_type": "code",
   "execution_count": 9,
   "id": "d734b14a",
   "metadata": {},
   "outputs": [],
   "source": [
    "#Cambiamos los terminos originales en los valores de modelo por el que deberia de ser. Por ejemplo \"MINI Cooper All Black(AUT)\"\n",
    "#Cambiamos por el valor \"MINI Cooper All Black\" por que el termino no tiene nada que ver ya que tenemos el campo Transmisión.\n",
    "\n",
    "for valor in df['modelo'].tolist():\n",
    "    tamaño=0\n",
    "    tamaño=len(valor)\n",
    "    if valor[tamaño-5:]=='(AUT)':\n",
    "        df= df.replace([valor],valor[:tamaño-5])"
   ]
  },
  {
   "cell_type": "markdown",
   "id": "096d94c2",
   "metadata": {},
   "source": [
    "# Analisis de Frecuencias Univariadas"
   ]
  },
  {
   "cell_type": "markdown",
   "id": "2a58c7d6",
   "metadata": {},
   "source": [
    "## Frecuencias Relativas y absolutas"
   ]
  },
  {
   "cell_type": "markdown",
   "id": "824185f0",
   "metadata": {},
   "source": [
    "## Supuesto\n",
    "Numero de operaciones con Frecuencias relativas"
   ]
  },
  {
   "cell_type": "code",
   "execution_count": 10,
   "id": "02ca38e0",
   "metadata": {},
   "outputs": [
    {
     "name": "stdout",
     "output_type": "stream",
     "text": [
      "\t\tNumero de operaciones de [agencia]\n",
      "******************************\n",
      "            fi     hi   FI     HI\n",
      "agencia                          \n",
      "LAS LOMAS   56  0.280   56  0.280\n",
      "MONTERREY   43  0.215   99  0.495\n",
      "REFORMA     39  0.195  138  0.690\n",
      "ZAPOPAN     62  0.310  200  1.000\n",
      "All        200  1.000  400  2.000\n",
      "\n",
      "\n",
      "\n",
      "\t\tNumero de operaciones de [modelo]\n",
      "******************************\n",
      "                            fi     hi   FI     HI\n",
      "modelo                                           \n",
      "MINI Cooper All Black       38  0.190   38  0.190\n",
      "MINI Cooper Bakerstreet     15  0.075   53  0.265\n",
      "MINI Cooper Bayswater       19  0.095   72  0.360\n",
      "MINI Cooper Chili           15  0.075   87  0.435\n",
      "MINI Cooper Classic         35  0.175  122  0.610\n",
      "MINI Cooper Green Park      13  0.065  135  0.675\n",
      "MINI Cooper Hyde Park       10  0.050  145  0.725\n",
      "MINI Cooper Oxford Street   17  0.085  162  0.810\n",
      "MINI Cooper Pepper          19  0.095  181  0.905\n",
      "MINI Cooper Salt            19  0.095  200  1.000\n",
      "All                        200  1.000  400  2.000\n",
      "\n",
      "\n",
      "\n",
      "\t\tNumero de operaciones de [año]\n",
      "******************************\n",
      "       fi     hi   FI     HI\n",
      "año                         \n",
      "2011   73  0.365   73  0.365\n",
      "2012  127  0.635  200  1.000\n",
      "All   200  1.000  400  2.000\n",
      "\n",
      "\n",
      "\n",
      "\t\tNumero de operaciones de [año_mes]\n",
      "******************************\n",
      "              fi     hi   FI     HI\n",
      "año_mes                            \n",
      "2011(01)ENE    5  0.025    5  0.025\n",
      "2011(02)FEB    3  0.015    8  0.040\n",
      "2011(03)MAR    7  0.035   15  0.075\n",
      "2011(04)ABR   10  0.050   25  0.125\n",
      "2011(05)MAY    4  0.020   29  0.145\n",
      "2011(06)JUN    7  0.035   36  0.180\n",
      "2011(07)JUL    5  0.025   41  0.205\n",
      "2011(08)AGO    4  0.020   45  0.225\n",
      "2011(09)SEP    6  0.030   51  0.255\n",
      "2011(10)OCT    4  0.020   55  0.275\n",
      "2011(11)NOV    8  0.040   63  0.315\n",
      "2011(12)DIC   10  0.050   73  0.365\n",
      "2012(01)ENE   10  0.050   83  0.415\n",
      "2012(02)FEB    9  0.045   92  0.460\n",
      "2012(03)MAR   13  0.065  105  0.525\n",
      "2012(04)ABR   14  0.070  119  0.595\n",
      "2012(05)MAY   12  0.060  131  0.655\n",
      "2012(06)JUN   11  0.055  142  0.710\n",
      "2012(07)JUL   10  0.050  152  0.760\n",
      "2012(08)AGO    9  0.045  161  0.805\n",
      "2012(09)SEP    9  0.045  170  0.850\n",
      "2012(10)OCT    6  0.030  176  0.880\n",
      "2012(11)NOV   10  0.050  186  0.930\n",
      "2012(12)DIC   14  0.070  200  1.000\n",
      "All          200  1.000  400  2.000\n",
      "\n",
      "\n",
      "\n",
      "\t\tNumero de operaciones  [sexo]\n",
      "******************************\n",
      "         fi    hi   FI    HI\n",
      "sexo                        \n",
      "HOMBRE   30  0.15   30  0.15\n",
      "MUJER   170  0.85  200  1.00\n",
      "All     200  1.00  400  2.00\n",
      "\n",
      "\n",
      "\n",
      "\t\tNumero de operaciones de [transmision]\n",
      "******************************\n",
      "              fi     hi   FI     HI\n",
      "transmisión                        \n",
      "AUTOMÁTICA    99  0.495   99  0.495\n",
      "ESTÁNDAR     101  0.505  200  1.000\n",
      "All          200  1.000  400  2.000\n",
      "\n",
      "\n",
      "\n"
     ]
    }
   ],
   "source": [
    "#Agencia\n",
    "\n",
    "\n",
    "def Generar_acomulativas(opcion):\n",
    "\n",
    "    df_frecuencias=df.pivot_table(index=opcion,values='precio_venta',aggfunc=\"count\",margins=True, margins_name='All')\n",
    "    df_frecuencias=df_frecuencias.rename(columns={'precio_venta':'fi'})\n",
    "    df_frecuencias[\"hi\"]=(df_frecuencias['fi'].values)/len(df)\n",
    "    lista=[]\n",
    "    sumador=0\n",
    "    for valor in df_frecuencias['fi'].values:\n",
    "        sumador=sumador+valor\n",
    "        lista.append(sumador)\n",
    "    df_frecuencias[\"FI\"]=lista\n",
    "\n",
    "    lista=[]\n",
    "    sumador=0\n",
    "    for valor in df_frecuencias[\"hi\"].values:\n",
    "        sumador=sumador+valor\n",
    "        lista.append(sumador)\n",
    "    df_frecuencias[\"HI\"]=lista\n",
    "    print(\"*\"*30)\n",
    "    print(df_frecuencias)\n",
    "    print(\"\\n\\n\")\n",
    "    return df_frecuencias\n",
    "\n",
    "\n",
    "print(\"\\t\\tNumero de operaciones de [agencia]\")\n",
    "Generar_acomulativas(\"agencia\")\n",
    "print(\"\\t\\tNumero de operaciones de [modelo]\")\n",
    "Generar_acomulativas(\"modelo\")\n",
    "print(\"\\t\\tNumero de operaciones de [año]\")\n",
    "Generar_acomulativas(\"año\")\n",
    "print(\"\\t\\tNumero de operaciones de [año_mes]\")\n",
    "Generar_acomulativas(\"año_mes\")\n",
    "print(\"\\t\\tNumero de operaciones  [sexo]\")\n",
    "Generar_acomulativas(\"sexo\")\n",
    "print(\"\\t\\tNumero de operaciones de [transmision]\")\n",
    "result_transmision=Generar_acomulativas(\"transmisión\")\n"
   ]
  },
  {
   "cell_type": "markdown",
   "id": "a4ee2af3",
   "metadata": {},
   "source": [
    "**Notas:**\n",
    "* La agencia que vendio más automoviles fue ZAPOPAN.\n",
    "* El modelo *MINI Cooper All Black* obtuvo mejores resultados en ventas.\n",
    "* El modelo *MINI Cooper HYDE PARK* obtuvo los peores resultados en ventas.\n",
    "* En el 2012 se vendio más automoviles.\n",
    "* En el mes de febrero del 2011 obtuvo resultados de ventas insatisfactorios como de los peores resultados de la época. Paralelo a esto en diciembre del 2012 obtuvo el mejor resultado sobre ventas.\n",
    "* Las mujeres prefieren comprar la Marca Mini Cooper que los hombres.\n",
    "* Los clientes no les importa sobre que tipo de transmisión prefieren conducir."
   ]
  },
  {
   "cell_type": "markdown",
   "id": "4ab53123",
   "metadata": {},
   "source": [
    "## Supuesto\n",
    "**Agencia**\n",
    "* sumatoria\n",
    "* Promedio\n",
    "* Mínimos y Máximos\n",
    "* Desviación estandar"
   ]
  },
  {
   "cell_type": "code",
   "execution_count": 11,
   "id": "d8444bdb",
   "metadata": {},
   "outputs": [
    {
     "name": "stdout",
     "output_type": "stream",
     "text": [
      "\t\t\t DESCRIPCION de las Agencias\n",
      "\tLa descripción sobre el precio de venta de cada sucursal con su respectivo enfoque:\n",
      "\n",
      "->Sumatoria de todos los precios de venta en Agencia\n",
      "\n",
      "           precio_venta\n",
      "agencia                \n",
      "LAS LOMAS   18120651.68\n",
      "MONTERREY   13766046.06\n",
      "REFORMA     12104383.60\n",
      "ZAPOPAN     19982968.50\n",
      "\n",
      "->La agencia con el precio mayor que fue adquirido por un cliente es la sucursal ZAPOPAN\n",
      "           precio_venta\n",
      "agencia                \n",
      "LAS LOMAS      387360.0\n",
      "MONTERREY      371995.0\n",
      "REFORMA        358900.0\n",
      "ZAPOPAN        387360.0\n",
      "\n",
      "->La agencia con el precio menor que fue adquirido por un cliente son las sucursales LAS LOMAS Y REFORMA\n",
      "           precio_venta\n",
      "agencia                \n",
      "LAS LOMAS      248577.0\n",
      "MONTERREY      261660.0\n",
      "REFORMA        248577.0\n",
      "ZAPOPAN        261660.0\n",
      "\n",
      "->Promedio del precio de venta de cada Agencia\n",
      "            precio_venta\n",
      "agencia                 \n",
      "LAS LOMAS  323583.065714\n",
      "MONTERREY  320140.606047\n",
      "REFORMA    310368.810256\n",
      "ZAPOPAN    322305.943548\n",
      "\n",
      "->Desviación Estandar del precio por Agencia\n",
      "           precio_venta\n",
      "agencia                \n",
      "LAS LOMAS  29839.577927\n",
      "MONTERREY  28969.610909\n",
      "REFORMA    33651.934351\n",
      "ZAPOPAN    33093.926092\n"
     ]
    }
   ],
   "source": [
    "#sumatoria, Promedio, Minimos o Maximos\n",
    "\n",
    "result_modelo=df.pivot_table(index='modelo',values='precio_venta',aggfunc=\"sum\",margins=True, margins_name='All')\n",
    "result_agencia=df.pivot_table(index='agencia',values='precio_venta',aggfunc=\"sum\",margins=True, margins_name='All')\n",
    "result_anio=df.pivot_table(index='año',values='precio_venta',aggfunc=\"sum\",margins=True, margins_name='All')\n",
    "result_anio_mes=df.pivot_table(index='año_mes',values='precio_venta',aggfunc=\"sum\",margins=False, margins_name='All')\n",
    "result_transmision=df.pivot_table(index='transmisión',values='precio_venta',aggfunc=\"sum\",margins=True, margins_name='All')\n",
    "\n",
    "\n",
    "\n",
    "#Para mostrar sum,mean,min o max necesitamos cambiar aggfunc=\"descripcion\"\n",
    "result_agencia_sum=df.pivot_table(index='agencia',values='precio_venta',aggfunc=\"sum\")\n",
    "result_agencia_max=df.pivot_table(index='agencia',values='precio_venta',aggfunc=\"max\")\n",
    "result_agencia_min=df.pivot_table(index='agencia',values='precio_venta',aggfunc=\"min\")\n",
    "result_agencia_mean=df.pivot_table(index='agencia',values='precio_venta',aggfunc=\"mean\")\n",
    "result_agencia_std=df.pivot_table(index='agencia',values='precio_venta',aggfunc=\"std\")\n",
    "\n",
    "#mostrar tabla\n",
    "print(\"\\t\\t\\t DESCRIPCION de las Agencias\")\n",
    "print(\"\\tLa descripción sobre el precio de venta de cada sucursal con su respectivo enfoque:\\n\")\n",
    "print(\"->Sumatoria de todos los precios de venta en Agencia\\n\")\n",
    "print(result_agencia_sum)\n",
    "print(\"\\n->La agencia con el precio mayor que fue adquirido por un cliente es la sucursal ZAPOPAN\")\n",
    "print(result_agencia_max)\n",
    "print(\"\\n->La agencia con el precio menor que fue adquirido por un cliente son las sucursales LAS LOMAS Y REFORMA\")\n",
    "print(result_agencia_min)\n",
    "print(\"\\n->Promedio del precio de venta de cada Agencia\")\n",
    "print(result_agencia_mean)\n",
    "print(\"\\n->Desviación Estandar del precio por Agencia\")\n",
    "print(result_agencia_std)"
   ]
  },
  {
   "cell_type": "markdown",
   "id": "10ea7d05",
   "metadata": {},
   "source": [
    "# Análisis frecuencias bivariadas"
   ]
  },
  {
   "cell_type": "markdown",
   "id": "054e41ee",
   "metadata": {},
   "source": [
    "## Valores cruzadas"
   ]
  },
  {
   "cell_type": "code",
   "execution_count": 12,
   "id": "b19ce960",
   "metadata": {},
   "outputs": [],
   "source": [
    "#filtro=(df[\"agencia\"]==\"MONTERREY\") & (df[\"modelo\"]==\"MINI Cooper All Black\")\n",
    "#df1=df[filtro]\n",
    "#df1.info\n",
    "#df1['precio_venta\n",
    "\n",
    "#agencia y modelo.\n",
    "result_modeloAgencia=df.pivot_table(index='modelo',columns='agencia',values='precio_venta',aggfunc=\"sum\",margins=True, margins_name='All')\n",
    "#agencia y año-mes.\n",
    "result_anioMesAgencia=df.pivot_table(index='año_mes',columns='agencia',values='precio_venta',aggfunc=\"count\",margins=True, margins_name='All')\n",
    "#agencia y año.\n",
    "result_anioAgencia=df.pivot_table(index='año',columns='agencia',values='precio_venta',aggfunc=\"sum\",margins=True, margins_name='All')\n",
    "#agencia y transmisión.\n",
    "result_transmisionAgencia=df.pivot_table(index='transmisión',columns='agencia',values='precio_venta',aggfunc=\"sum\",margins=True, margins_name='All')\n",
    "#modelo y año.\n",
    "result_anioModelo=df.pivot_table(index='modelo',columns='año',values='precio_venta',aggfunc=\"sum\",margins=True, margins_name='All')\n",
    "#modelo y año-mes.\n",
    "result_anioMesModelo=df.pivot_table(index='modelo',columns='año_mes',values='precio_venta',aggfunc=\"sum\",margins=True, margins_name='All')\n",
    "\n",
    "\n",
    "#Para mostrar sum,mean,min o max necesitamos cambiar aggfunc=\"descripcion\"\n",
    "result_anioAgencia=df.pivot_table(index='año',columns='agencia',values='precio_venta',aggfunc=\"count\",margins=True, margins_name='All')\n",
    "result_modeloAgencia=df.pivot_table(index='modelo',columns='agencia',values='precio_venta',aggfunc=\"count\",margins=True, margins_name='All')\n"
   ]
  },
  {
   "cell_type": "markdown",
   "id": "b5c90435",
   "metadata": {},
   "source": [
    "## Supuestos\n",
    "* ¿Cuántos coches de cada modelo vendió cada agencia?\n",
    "* ¿Cuántas operaciones realizó cada agencia, en cada año?"
   ]
  },
  {
   "cell_type": "code",
   "execution_count": 13,
   "id": "5fd63426",
   "metadata": {},
   "outputs": [
    {
     "name": "stdout",
     "output_type": "stream",
     "text": [
      "\n",
      "\n",
      "\t\t\t¿Cuántos coches de cada modelo vendió cada agencia? \n",
      "\n",
      "AGENCIA MODELO (fi)\n",
      "agencia                    LAS LOMAS  MONTERREY  REFORMA  ZAPOPAN  All\n",
      "modelo                                                                \n",
      "MINI Cooper All Black           13.0        5.0      9.0     11.0   38\n",
      "MINI Cooper Bakerstreet          5.0        2.0      6.0      2.0   15\n",
      "MINI Cooper Bayswater            6.0        2.0      4.0      7.0   19\n",
      "MINI Cooper Chili                5.0        5.0      0.0      5.0   15\n",
      "MINI Cooper Classic             12.0        7.0      8.0      8.0   35\n",
      "MINI Cooper Green Park           3.0        4.0      2.0      4.0   13\n",
      "MINI Cooper Hyde Park            1.0        0.0      0.0      9.0   10\n",
      "MINI Cooper Oxford Street        1.0       10.0      1.0      5.0   17\n",
      "MINI Cooper Pepper               6.0        5.0      5.0      3.0   19\n",
      "MINI Cooper Salt                 4.0        3.0      4.0      8.0   19\n",
      "All                             56.0       43.0     39.0     62.0  200\n",
      "\n",
      "\n",
      "\t\t\t¿Cuántas operaciones realizó cada agencia, en cada año?\n",
      "\n",
      "AGENCIA AÑO (fi)\n",
      "agencia  LAS LOMAS  MONTERREY  REFORMA  ZAPOPAN  All\n",
      "año                                                 \n",
      "2011            18         18       14       23   73\n",
      "2012            38         25       25       39  127\n",
      "All             56         43       39       62  200\n"
     ]
    }
   ],
   "source": [
    "#resultado.fillna(0)/len(df) CAMBIAR NaN A 0\n",
    "def Generar_frecuenciasfi(resultado):\n",
    "    return print(resultado.fillna(0))\n",
    "    \n",
    "\n",
    "#Agencia y modelo.\n",
    "print(\"\\n\")\n",
    "print(\"\\t\\t\\t¿Cuántos coches de cada modelo vendió cada agencia? \\n\")\n",
    "print(\"AGENCIA MODELO (fi)\")\n",
    "result_modeloAgencia=df.pivot_table(index='modelo',columns='agencia',values='precio_venta',aggfunc=\"count\",margins=True, margins_name='All')\n",
    "Generar_frecuenciasfi(result_modeloAgencia)\n",
    "print(\"\\n\")\n",
    "#Agencia y año\n",
    "print(\"\\t\\t\\t¿Cuántas operaciones realizó cada agencia, en cada año?\\n\")\n",
    "print(\"AGENCIA AÑO (fi)\")\n",
    "Generar_frecuenciasfi(result_anioAgencia)\n"
   ]
  },
  {
   "cell_type": "code",
   "execution_count": 14,
   "id": "44765dfa",
   "metadata": {
    "scrolled": true
   },
   "outputs": [
    {
     "name": "stdout",
     "output_type": "stream",
     "text": [
      "\n",
      "\n",
      "El monto que vendio la agencia por año es la siguiente:\n",
      "\n",
      "*ZAPOPAN obtuvo el monto mayor de vender mas automoviles en todos los años\n",
      "*Reforma obtuvo el monto menor de vender menos automoviles en todos los años\n"
     ]
    },
    {
     "data": {
      "text/html": [
       "<div>\n",
       "<style scoped>\n",
       "    .dataframe tbody tr th:only-of-type {\n",
       "        vertical-align: middle;\n",
       "    }\n",
       "\n",
       "    .dataframe tbody tr th {\n",
       "        vertical-align: top;\n",
       "    }\n",
       "\n",
       "    .dataframe thead th {\n",
       "        text-align: right;\n",
       "    }\n",
       "</style>\n",
       "<table border=\"1\" class=\"dataframe\">\n",
       "  <thead>\n",
       "    <tr style=\"text-align: right;\">\n",
       "      <th>año</th>\n",
       "      <th>2011</th>\n",
       "      <th>2012</th>\n",
       "      <th>All</th>\n",
       "    </tr>\n",
       "    <tr>\n",
       "      <th>agencia</th>\n",
       "      <th></th>\n",
       "      <th></th>\n",
       "      <th></th>\n",
       "    </tr>\n",
       "  </thead>\n",
       "  <tbody>\n",
       "    <tr>\n",
       "      <th>LAS LOMAS</th>\n",
       "      <td>5668923.68</td>\n",
       "      <td>12451728.0</td>\n",
       "      <td>18120651.68</td>\n",
       "    </tr>\n",
       "    <tr>\n",
       "      <th>MONTERREY</th>\n",
       "      <td>5701196.06</td>\n",
       "      <td>8064850.0</td>\n",
       "      <td>13766046.06</td>\n",
       "    </tr>\n",
       "    <tr>\n",
       "      <th>REFORMA</th>\n",
       "      <td>4260177.60</td>\n",
       "      <td>7844206.0</td>\n",
       "      <td>12104383.60</td>\n",
       "    </tr>\n",
       "    <tr>\n",
       "      <th>ZAPOPAN</th>\n",
       "      <td>7254670.50</td>\n",
       "      <td>12728298.0</td>\n",
       "      <td>19982968.50</td>\n",
       "    </tr>\n",
       "    <tr>\n",
       "      <th>All</th>\n",
       "      <td>22884967.84</td>\n",
       "      <td>41089082.0</td>\n",
       "      <td>63974049.84</td>\n",
       "    </tr>\n",
       "  </tbody>\n",
       "</table>\n",
       "</div>"
      ],
      "text/plain": [
       "año               2011        2012          All\n",
       "agencia                                        \n",
       "LAS LOMAS   5668923.68  12451728.0  18120651.68\n",
       "MONTERREY   5701196.06   8064850.0  13766046.06\n",
       "REFORMA     4260177.60   7844206.0  12104383.60\n",
       "ZAPOPAN     7254670.50  12728298.0  19982968.50\n",
       "All        22884967.84  41089082.0  63974049.84"
      ]
     },
     "execution_count": 14,
     "metadata": {},
     "output_type": "execute_result"
    }
   ],
   "source": [
    "#Para mostrar sum,mean,min o max necesitamos cambiar aggfunc=\"descripcion\"\n",
    "print(\"\\n\")\n",
    "print(\"El monto que vendio la agencia por año es la siguiente:\\n\")\n",
    "print(\"*ZAPOPAN obtuvo el monto mayor de vender mas automoviles en todos los años\")\n",
    "print(\"*Reforma obtuvo el monto menor de vender menos automoviles en todos los años\")\n",
    "\n",
    "result_anioAgencia=df.pivot_table(index='agencia',columns='año',values='precio_venta',aggfunc=\"sum\",margins=True, margins_name='All')\n",
    "result_anioAgencia\n",
    "#print(\"\\n\")\n",
    "#result_modeloAgencia=df.pivot_table(index='modelo',columns='agencia',values='precio_venta',aggfunc=\"count\",margins=True, margins_name='All')"
   ]
  },
  {
   "cell_type": "code",
   "execution_count": 15,
   "id": "742a01db",
   "metadata": {},
   "outputs": [
    {
     "name": "stdout",
     "output_type": "stream",
     "text": [
      "Los precios promedio de cada modelo por Agencias son: \n"
     ]
    },
    {
     "data": {
      "text/html": [
       "<div>\n",
       "<style scoped>\n",
       "    .dataframe tbody tr th:only-of-type {\n",
       "        vertical-align: middle;\n",
       "    }\n",
       "\n",
       "    .dataframe tbody tr th {\n",
       "        vertical-align: top;\n",
       "    }\n",
       "\n",
       "    .dataframe thead th {\n",
       "        text-align: right;\n",
       "    }\n",
       "</style>\n",
       "<table border=\"1\" class=\"dataframe\">\n",
       "  <thead>\n",
       "    <tr style=\"text-align: right;\">\n",
       "      <th>agencia</th>\n",
       "      <th>LAS LOMAS</th>\n",
       "      <th>MONTERREY</th>\n",
       "      <th>REFORMA</th>\n",
       "      <th>ZAPOPAN</th>\n",
       "      <th>All</th>\n",
       "    </tr>\n",
       "    <tr>\n",
       "      <th>modelo</th>\n",
       "      <th></th>\n",
       "      <th></th>\n",
       "      <th></th>\n",
       "      <th></th>\n",
       "      <th></th>\n",
       "    </tr>\n",
       "  </thead>\n",
       "  <tbody>\n",
       "    <tr>\n",
       "      <th>MINI Cooper All Black</th>\n",
       "      <td>323791.623077</td>\n",
       "      <td>321565.700000</td>\n",
       "      <td>318275.244444</td>\n",
       "      <td>323302.429091</td>\n",
       "      <td>322050.618947</td>\n",
       "    </tr>\n",
       "    <tr>\n",
       "      <th>MINI Cooper Bakerstreet</th>\n",
       "      <td>332662.360000</td>\n",
       "      <td>320146.200000</td>\n",
       "      <td>341082.293333</td>\n",
       "      <td>320146.200000</td>\n",
       "      <td>332692.690667</td>\n",
       "    </tr>\n",
       "    <tr>\n",
       "      <th>MINI Cooper Bayswater</th>\n",
       "      <td>322763.793333</td>\n",
       "      <td>325061.550000</td>\n",
       "      <td>315458.550000</td>\n",
       "      <td>331925.885714</td>\n",
       "      <td>324843.224211</td>\n",
       "    </tr>\n",
       "    <tr>\n",
       "      <th>MINI Cooper Chili</th>\n",
       "      <td>327696.800000</td>\n",
       "      <td>338692.736000</td>\n",
       "      <td>0.000000</td>\n",
       "      <td>324655.952000</td>\n",
       "      <td>330348.496000</td>\n",
       "    </tr>\n",
       "    <tr>\n",
       "      <th>MINI Cooper Classic</th>\n",
       "      <td>293894.250000</td>\n",
       "      <td>286092.542857</td>\n",
       "      <td>269361.500000</td>\n",
       "      <td>282331.912500</td>\n",
       "      <td>284083.602857</td>\n",
       "    </tr>\n",
       "    <tr>\n",
       "      <th>MINI Cooper Green Park</th>\n",
       "      <td>337644.586667</td>\n",
       "      <td>334667.520000</td>\n",
       "      <td>310365.000000</td>\n",
       "      <td>311932.500000</td>\n",
       "      <td>324620.295385</td>\n",
       "    </tr>\n",
       "    <tr>\n",
       "      <th>MINI Cooper Hyde Park</th>\n",
       "      <td>332384.000000</td>\n",
       "      <td>0.000000</td>\n",
       "      <td>0.000000</td>\n",
       "      <td>347529.437778</td>\n",
       "      <td>346014.894000</td>\n",
       "    </tr>\n",
       "    <tr>\n",
       "      <th>MINI Cooper Oxford Street</th>\n",
       "      <td>387360.000000</td>\n",
       "      <td>324757.620000</td>\n",
       "      <td>295850.000000</td>\n",
       "      <td>357818.180000</td>\n",
       "      <td>336463.358824</td>\n",
       "    </tr>\n",
       "    <tr>\n",
       "      <th>MINI Cooper Pepper</th>\n",
       "      <td>343195.526667</td>\n",
       "      <td>325533.260000</td>\n",
       "      <td>309520.424000</td>\n",
       "      <td>356352.426667</td>\n",
       "      <td>331763.097895</td>\n",
       "    </tr>\n",
       "    <tr>\n",
       "      <th>MINI Cooper Salt</th>\n",
       "      <td>338600.025000</td>\n",
       "      <td>319259.333333</td>\n",
       "      <td>328126.080000</td>\n",
       "      <td>293411.250000</td>\n",
       "      <td>314314.337895</td>\n",
       "    </tr>\n",
       "    <tr>\n",
       "      <th>All</th>\n",
       "      <td>323583.065714</td>\n",
       "      <td>320140.606047</td>\n",
       "      <td>310368.810256</td>\n",
       "      <td>322305.943548</td>\n",
       "      <td>319870.249200</td>\n",
       "    </tr>\n",
       "  </tbody>\n",
       "</table>\n",
       "</div>"
      ],
      "text/plain": [
       "agencia                        LAS LOMAS      MONTERREY        REFORMA  \\\n",
       "modelo                                                                   \n",
       "MINI Cooper All Black      323791.623077  321565.700000  318275.244444   \n",
       "MINI Cooper Bakerstreet    332662.360000  320146.200000  341082.293333   \n",
       "MINI Cooper Bayswater      322763.793333  325061.550000  315458.550000   \n",
       "MINI Cooper Chili          327696.800000  338692.736000       0.000000   \n",
       "MINI Cooper Classic        293894.250000  286092.542857  269361.500000   \n",
       "MINI Cooper Green Park     337644.586667  334667.520000  310365.000000   \n",
       "MINI Cooper Hyde Park      332384.000000       0.000000       0.000000   \n",
       "MINI Cooper Oxford Street  387360.000000  324757.620000  295850.000000   \n",
       "MINI Cooper Pepper         343195.526667  325533.260000  309520.424000   \n",
       "MINI Cooper Salt           338600.025000  319259.333333  328126.080000   \n",
       "All                        323583.065714  320140.606047  310368.810256   \n",
       "\n",
       "agencia                          ZAPOPAN            All  \n",
       "modelo                                                   \n",
       "MINI Cooper All Black      323302.429091  322050.618947  \n",
       "MINI Cooper Bakerstreet    320146.200000  332692.690667  \n",
       "MINI Cooper Bayswater      331925.885714  324843.224211  \n",
       "MINI Cooper Chili          324655.952000  330348.496000  \n",
       "MINI Cooper Classic        282331.912500  284083.602857  \n",
       "MINI Cooper Green Park     311932.500000  324620.295385  \n",
       "MINI Cooper Hyde Park      347529.437778  346014.894000  \n",
       "MINI Cooper Oxford Street  357818.180000  336463.358824  \n",
       "MINI Cooper Pepper         356352.426667  331763.097895  \n",
       "MINI Cooper Salt           293411.250000  314314.337895  \n",
       "All                        322305.943548  319870.249200  "
      ]
     },
     "execution_count": 15,
     "metadata": {},
     "output_type": "execute_result"
    }
   ],
   "source": [
    "result_modeloAgencia=df.pivot_table(index='modelo',columns='agencia',values='precio_venta',aggfunc=\"mean\",margins=True, margins_name='All')\n",
    "print(\"Los precios promedio de cada modelo por Agencias son: \")\n",
    "result_modeloAgencia.fillna(0)"
   ]
  },
  {
   "cell_type": "markdown",
   "id": "bb887b3e",
   "metadata": {},
   "source": [
    "# Análisis de Tendencia\n"
   ]
  },
  {
   "cell_type": "markdown",
   "id": "aedd248c",
   "metadata": {},
   "source": [
    "## Supuesto \n",
    "* Cómo fluctuaron las ventas en cuanto al monto en el año.<br>\n",
    "* Variable de valor: Precio de venta\n",
    "* Variable ordinal en Y: Año-Mes.<br>\n",
    "* Se genera una tabla de valores con estas dos variables.<br>"
   ]
  },
  {
   "cell_type": "markdown",
   "id": "5b6eafb2",
   "metadata": {},
   "source": [
    "## Gráfica"
   ]
  },
  {
   "cell_type": "code",
   "execution_count": 16,
   "id": "16b7c572",
   "metadata": {},
   "outputs": [
    {
     "data": {
      "text/plain": [
       "Text(0, 0.5, 'Precio venta (Millones)')"
      ]
     },
     "execution_count": 16,
     "metadata": {},
     "output_type": "execute_result"
    },
    {
     "data": {
      "image/png": "[encoded data removed]",
      "text/plain": [
       "<Figure size 1080x432 with 1 Axes>"
      ]
     },
     "metadata": {
      "needs_background": "light"
     },
     "output_type": "display_data"
    }
   ],
   "source": [
    "#Grafica\n",
    "ax_tendencia=(result_anio_mes).plot()\n",
    "fig = ax_tendencia.get_figure()\n",
    "fig.set_size_inches(15, 6)\n",
    "ax_tendencia.set_xlabel(\"Años\")\n",
    "ax_tendencia.set_ylabel(\"Precio venta (Millones)\")\n",
    "\n"
   ]
  },
  {
   "cell_type": "markdown",
   "id": "5f887c11",
   "metadata": {},
   "source": [
    "## Tabla de tendencia"
   ]
  },
  {
   "cell_type": "code",
   "execution_count": 17,
   "id": "06550864",
   "metadata": {},
   "outputs": [
    {
     "data": {
      "text/html": [
       "<div>\n",
       "<style scoped>\n",
       "    .dataframe tbody tr th:only-of-type {\n",
       "        vertical-align: middle;\n",
       "    }\n",
       "\n",
       "    .dataframe tbody tr th {\n",
       "        vertical-align: top;\n",
       "    }\n",
       "\n",
       "    .dataframe thead th {\n",
       "        text-align: right;\n",
       "    }\n",
       "</style>\n",
       "<table border=\"1\" class=\"dataframe\">\n",
       "  <thead>\n",
       "    <tr style=\"text-align: right;\">\n",
       "      <th></th>\n",
       "      <th>precio_venta</th>\n",
       "    </tr>\n",
       "    <tr>\n",
       "      <th>año_mes</th>\n",
       "      <th></th>\n",
       "    </tr>\n",
       "  </thead>\n",
       "  <tbody>\n",
       "    <tr>\n",
       "      <th>2011(01)ENE</th>\n",
       "      <td>1401506.82</td>\n",
       "    </tr>\n",
       "    <tr>\n",
       "      <th>2011(02)FEB</th>\n",
       "      <td>931664.44</td>\n",
       "    </tr>\n",
       "    <tr>\n",
       "      <th>2011(03)MAR</th>\n",
       "      <td>2443260.54</td>\n",
       "    </tr>\n",
       "    <tr>\n",
       "      <th>2011(04)ABR</th>\n",
       "      <td>3029561.22</td>\n",
       "    </tr>\n",
       "    <tr>\n",
       "      <th>2011(05)MAY</th>\n",
       "      <td>1344849.10</td>\n",
       "    </tr>\n",
       "    <tr>\n",
       "      <th>2011(06)JUN</th>\n",
       "      <td>2083333.00</td>\n",
       "    </tr>\n",
       "    <tr>\n",
       "      <th>2011(07)JUL</th>\n",
       "      <td>1547943.32</td>\n",
       "    </tr>\n",
       "    <tr>\n",
       "      <th>2011(08)AGO</th>\n",
       "      <td>1274511.56</td>\n",
       "    </tr>\n",
       "    <tr>\n",
       "      <th>2011(09)SEP</th>\n",
       "      <td>1843649.50</td>\n",
       "    </tr>\n",
       "    <tr>\n",
       "      <th>2011(10)OCT</th>\n",
       "      <td>1337135.52</td>\n",
       "    </tr>\n",
       "    <tr>\n",
       "      <th>2011(11)NOV</th>\n",
       "      <td>2485030.10</td>\n",
       "    </tr>\n",
       "    <tr>\n",
       "      <th>2011(12)DIC</th>\n",
       "      <td>3162522.72</td>\n",
       "    </tr>\n",
       "    <tr>\n",
       "      <th>2012(01)ENE</th>\n",
       "      <td>2954099.00</td>\n",
       "    </tr>\n",
       "    <tr>\n",
       "      <th>2012(02)FEB</th>\n",
       "      <td>2951148.00</td>\n",
       "    </tr>\n",
       "    <tr>\n",
       "      <th>2012(03)MAR</th>\n",
       "      <td>4303335.00</td>\n",
       "    </tr>\n",
       "    <tr>\n",
       "      <th>2012(04)ABR</th>\n",
       "      <td>4519399.00</td>\n",
       "    </tr>\n",
       "    <tr>\n",
       "      <th>2012(05)MAY</th>\n",
       "      <td>3960102.00</td>\n",
       "    </tr>\n",
       "    <tr>\n",
       "      <th>2012(06)JUN</th>\n",
       "      <td>3401495.00</td>\n",
       "    </tr>\n",
       "    <tr>\n",
       "      <th>2012(07)JUL</th>\n",
       "      <td>3224452.00</td>\n",
       "    </tr>\n",
       "    <tr>\n",
       "      <th>2012(08)AGO</th>\n",
       "      <td>3016263.00</td>\n",
       "    </tr>\n",
       "    <tr>\n",
       "      <th>2012(09)SEP</th>\n",
       "      <td>2885734.00</td>\n",
       "    </tr>\n",
       "    <tr>\n",
       "      <th>2012(10)OCT</th>\n",
       "      <td>2001304.00</td>\n",
       "    </tr>\n",
       "    <tr>\n",
       "      <th>2012(11)NOV</th>\n",
       "      <td>3297013.00</td>\n",
       "    </tr>\n",
       "    <tr>\n",
       "      <th>2012(12)DIC</th>\n",
       "      <td>4574738.00</td>\n",
       "    </tr>\n",
       "  </tbody>\n",
       "</table>\n",
       "</div>"
      ],
      "text/plain": [
       "             precio_venta\n",
       "año_mes                  \n",
       "2011(01)ENE    1401506.82\n",
       "2011(02)FEB     931664.44\n",
       "2011(03)MAR    2443260.54\n",
       "2011(04)ABR    3029561.22\n",
       "2011(05)MAY    1344849.10\n",
       "2011(06)JUN    2083333.00\n",
       "2011(07)JUL    1547943.32\n",
       "2011(08)AGO    1274511.56\n",
       "2011(09)SEP    1843649.50\n",
       "2011(10)OCT    1337135.52\n",
       "2011(11)NOV    2485030.10\n",
       "2011(12)DIC    3162522.72\n",
       "2012(01)ENE    2954099.00\n",
       "2012(02)FEB    2951148.00\n",
       "2012(03)MAR    4303335.00\n",
       "2012(04)ABR    4519399.00\n",
       "2012(05)MAY    3960102.00\n",
       "2012(06)JUN    3401495.00\n",
       "2012(07)JUL    3224452.00\n",
       "2012(08)AGO    3016263.00\n",
       "2012(09)SEP    2885734.00\n",
       "2012(10)OCT    2001304.00\n",
       "2012(11)NOV    3297013.00\n",
       "2012(12)DIC    4574738.00"
      ]
     },
     "execution_count": 17,
     "metadata": {},
     "output_type": "execute_result"
    }
   ],
   "source": [
    "result_anio_mes"
   ]
  },
  {
   "cell_type": "markdown",
   "id": "10bbfade",
   "metadata": {},
   "source": [
    "### Nota\n",
    "* El precio de venta alcanzó su punto mínimo en febrero del 2011.\n",
    "* El precio de venta alcanzó su punto máximo en diciembre del 2012."
   ]
  },
  {
   "cell_type": "markdown",
   "id": "465eb51c",
   "metadata": {},
   "source": [
    "#  Análisis de correlación\n",
    "* Análisis en ```edad``` y ```precio_venta```\n",
    "* Análisis en ```edad``` y ```descuento```"
   ]
  },
  {
   "cell_type": "code",
   "execution_count": 18,
   "id": "a484d8d6",
   "metadata": {},
   "outputs": [
    {
     "name": "stdout",
     "output_type": "stream",
     "text": [
      "El analisis de correlación de edad y precio_venta es: -0.009549789689181394\n",
      "Quiere decir que no tiene correlación \n",
      "No tiene que ver la edad con el precio de venta\n"
     ]
    }
   ],
   "source": [
    "print(\"El analisis de correlación de edad y precio_venta es:\",df['edad'].corr(df['precio_venta'], method=\"pearson\"))\n",
    "print(\"Quiere decir que no tiene correlación \")\n",
    "print(\"No tiene que ver la edad con el precio de venta\")"
   ]
  },
  {
   "cell_type": "code",
   "execution_count": 19,
   "id": "a523fae6",
   "metadata": {},
   "outputs": [
    {
     "name": "stdout",
     "output_type": "stream",
     "text": [
      "El analisis de correlación de edad y descuento es: -0.10544688142622474\n",
      "Quiere decir que tiene una correlación muy débil \n",
      "No tiene que ver la edad con el precio de venta\n"
     ]
    }
   ],
   "source": [
    "print(\"El analisis de correlación de edad y descuento es:\",df['edad'].corr(df['descuento'], method=\"pearson\"))\n",
    "print(\"Quiere decir que tiene una correlación muy débil \")\n",
    "print(\"No tiene que ver la edad con el precio de venta\")"
   ]
  },
  {
   "cell_type": "markdown",
   "id": "8e737308",
   "metadata": {},
   "source": [
    "**Nota:** Entre nuestas variables no existen ninguna correlación una con otra.\n"
   ]
  },
  {
   "cell_type": "markdown",
   "id": "04d00bbc",
   "metadata": {},
   "source": [
    "# Gráficas"
   ]
  },
  {
   "cell_type": "markdown",
   "id": "cc6f84a8",
   "metadata": {},
   "source": [
    "## Proporciones"
   ]
  },
  {
   "cell_type": "code",
   "execution_count": 20,
   "id": "ac958154",
   "metadata": {
    "scrolled": false
   },
   "outputs": [
    {
     "name": "stdout",
     "output_type": "stream",
     "text": [
      "\t\tCantidad porcentual de cantidad de coches vendidos por agencia\n",
      "\n"
     ]
    },
    {
     "data": {
      "text/plain": [
       "<AxesSubplot:ylabel='agencia'>"
      ]
     },
     "execution_count": 20,
     "metadata": {},
     "output_type": "execute_result"
    },
    {
     "data": {
      "image/png": "[encoded data removed]",
      "text/plain": [
       "<Figure size 432x288 with 1 Axes>"
      ]
     },
     "metadata": {},
     "output_type": "display_data"
    }
   ],
   "source": [
    "print(\"\\t\\tCantidad porcentual de cantidad de coches vendidos por agencia\\n\")\n",
    "df['agencia'].value_counts().plot(kind=\"pie\",autopct=\"%d\")\n",
    "\n",
    "#result_agencia/result_agencia.sum()*2"
   ]
  },
  {
   "cell_type": "code",
   "execution_count": 21,
   "id": "5ef8827b",
   "metadata": {},
   "outputs": [
    {
     "name": "stdout",
     "output_type": "stream",
     "text": [
      "\t\tCantidad porcentual de cantidad de coches vendidos por Año\n",
      "\n",
      "\t**En el 2012 se vendio casi el doble de coches que en el 2011**\n"
     ]
    },
    {
     "data": {
      "image/png": "[encoded data removed]",
      "text/plain": [
       "<Figure size 432x288 with 1 Axes>"
      ]
     },
     "metadata": {},
     "output_type": "display_data"
    }
   ],
   "source": [
    "print(\"\\t\\tCantidad porcentual de cantidad de coches vendidos por Año\\n\")\n",
    "df['año'].value_counts().plot(kind=\"pie\",autopct=\"%.2f\")\n",
    "\n",
    "print(\"\\t**En el 2012 se vendio casi el doble de coches que en el 2011**\")\n"
   ]
  },
  {
   "cell_type": "code",
   "execution_count": 22,
   "id": "c7726d4a",
   "metadata": {},
   "outputs": [
    {
     "name": "stdout",
     "output_type": "stream",
     "text": [
      "\t\tCantidad porcentual de cantidad de coches vendidos por tipo de transmisión\n",
      "\n",
      "**Los clientes no tienen una preferencia notable entre elegir el tipo de transmisión en los coches**\n"
     ]
    },
    {
     "data": {
      "image/png": "[encoded data removed]",
      "text/plain": [
       "<Figure size 432x288 with 1 Axes>"
      ]
     },
     "metadata": {},
     "output_type": "display_data"
    }
   ],
   "source": [
    "print(\"\\t\\tCantidad porcentual de cantidad de coches vendidos por tipo de transmisión\\n\")\n",
    "df['transmisión'].value_counts().plot(kind=\"pie\",autopct=\"%.2f\")\n",
    "print(\"**Los clientes no tienen una preferencia notable entre elegir el tipo de transmisión en los coches**\")"
   ]
  },
  {
   "cell_type": "markdown",
   "id": "62796ba1",
   "metadata": {},
   "source": [
    "## Comparativo"
   ]
  },
  {
   "cell_type": "code",
   "execution_count": 23,
   "id": "0d48116e",
   "metadata": {},
   "outputs": [
    {
     "name": "stdout",
     "output_type": "stream",
     "text": [
      "\n",
      "\n",
      "\t\tLas Ventas de agencia sobre el Género dominante en comprar un coche Mini Cooper\n",
      "\t*Las mujeres predominan en elegír un autómovil de esta marca*\n"
     ]
    },
    {
     "data": {
      "image/png": "[encoded data removed]",
      "text/plain": [
       "<Figure size 1080x432 with 1 Axes>"
      ]
     },
     "metadata": {
      "needs_background": "light"
     },
     "output_type": "display_data"
    }
   ],
   "source": [
    "result_anioAgencia=df.pivot_table(index='sexo',columns='agencia',values='precio_venta',aggfunc=\"sum\",margins=False, margins_name='All')\n",
    "\n",
    "result_anioAgenciaPLOT=(result_anioAgencia)/result_anioAgencia.sum()*100\n",
    "\n",
    "ax = result_anioAgenciaPLOT.plot(kind=\"bar\")\n",
    "fig = ax.get_figure()\n",
    "fig.set_size_inches(15, 6)\n",
    "ax.set_xlabel(\"sexo\")\n",
    "ax.set_ylabel(\"Agencia\")\n",
    "\n",
    "print(\"\\n\\n\\t\\tLas Ventas de agencia sobre el Género dominante en comprar un coche Mini Cooper\")\n",
    "print(\"\\t*Las mujeres predominan en elegír un autómovil de esta marca*\")\n",
    "plt.show()"
   ]
  },
  {
   "cell_type": "code",
   "execution_count": 24,
   "id": "27b9a579",
   "metadata": {},
   "outputs": [
    {
     "name": "stdout",
     "output_type": "stream",
     "text": [
      "\n",
      "\n",
      "\t\tVentas de modelos por años\n"
     ]
    },
    {
     "data": {
      "image/png": "[encoded data removed]",
      "text/plain": [
       "<Figure size 432x288 with 1 Axes>"
      ]
     },
     "metadata": {
      "needs_background": "light"
     },
     "output_type": "display_data"
    }
   ],
   "source": [
    "#modelo y año.\n",
    "result_anioModelo=df.pivot_table(index='modelo',columns='año',values='precio_venta',aggfunc=\"sum\",margins=False, margins_name='All')\n",
    "result_anioModeloPLOT=((result_anioModelo)/(result_anioModelo.sum())*100)\n",
    "\n",
    "ax = result_anioModeloPLOT.plot(kind=\"bar\")\n",
    "ax.plot(kind=\"bar\")\n",
    "fig1 = ax.get_figure()\n",
    "fig.set_size_inches(20,4)\n",
    "ax.set_xlabel(\"Año\")\n",
    "ax.set_ylabel(\"Agencia\")\n",
    "\n",
    "print(\"\\n\\n\\t\\tVentas de modelos por años\")\n",
    "plt.show()"
   ]
  },
  {
   "cell_type": "markdown",
   "id": "f13fcc97",
   "metadata": {},
   "source": [
    "**Notas:** \n",
    "* El módelo con mayor venta del 2011 es MINI Cooper Classic.\n",
    "* El módelo con mayor venta del 2012 es MINI Cooper All Black.<br>\n",
    "Resumiendo confirmando que el modelo con mayor ventas es _MINI Cooper All Black_"
   ]
  }
 ],
 "metadata": {
  "kernelspec": {
   "display_name": "Python 3 (ipykernel)",
   "language": "python",
   "name": "python3"
  },
  "language_info": {
   "codemirror_mode": {
    "name": "ipython",
    "version": 3
   },
   "file_extension": ".py",
   "mimetype": "text/x-python",
   "name": "python",
   "nbconvert_exporter": "python",
   "pygments_lexer": "ipython3",
   "version": "3.9.7"
  }
 },
 "nbformat": 4,
 "nbformat_minor": 5
}
